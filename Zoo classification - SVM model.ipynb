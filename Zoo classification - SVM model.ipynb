{
 "cells": [
  {
   "cell_type": "markdown",
   "id": "71ee95ab",
   "metadata": {},
   "source": [
    "# Problem Statement :"
   ]
  },
  {
   "cell_type": "markdown",
   "id": "44fa6752",
   "metadata": {},
   "source": [
    "\"Segregating alegator and crocodile in zoo dataset using SVM model\""
   ]
  },
  {
   "cell_type": "code",
   "execution_count": 23,
   "id": "c353cd1a",
   "metadata": {},
   "outputs": [],
   "source": [
    "import numpy as np\n",
    "import matplotlib.pyplot as plt\n",
    "from sklearn import svm"
   ]
  },
  {
   "cell_type": "code",
   "execution_count": 4,
   "id": "8024ab40",
   "metadata": {},
   "outputs": [],
   "source": [
    "from sklearn.datasets import make_blobs"
   ]
  },
  {
   "cell_type": "markdown",
   "id": "ed888dcd",
   "metadata": {},
   "source": [
    "# Note :"
   ]
  },
  {
   "cell_type": "markdown",
   "id": "918f0d14",
   "metadata": {},
   "source": [
    "sklearn.datasets.make_blobs(n_samples=100, n_features=2, *, centers=None, cluster_std=1.0, center_box=(-10.0, 10.0), shuffle=True, random_state=None, return_centers=False)\n",
    "\n",
    "Generate isotropic Gaussian blobs for clustering.\n"
   ]
  },
  {
   "cell_type": "code",
   "execution_count": 7,
   "id": "11f88b3c",
   "metadata": {},
   "outputs": [],
   "source": [
    "# >>> from sklearn.datasets import make_blobs\n",
    "# >>> X, y = make_blobs(n_samples=10, centers=3, n_features=2,\n",
    "# ...                   random_state=0)\n",
    "\n",
    "# X : ndarray of shape (n_samples, n_features)\n",
    "# The generated samples.\n",
    "# y : ndarray of shape (n_samples,)\n",
    "# The integer labels for cluster membership of each sample."
   ]
  },
  {
   "cell_type": "code",
   "execution_count": 46,
   "id": "9faeb7b4",
   "metadata": {},
   "outputs": [],
   "source": [
    "X, y = make_blobs(n_samples=40,n_features=2,centers=2,random_state=20)\n",
    "# we created 40 separable points\n",
    "#If you don't specify the random_state in the code, then every time you run(execute) your code a new random value is generated and the train and test datasets would have different values each time.\n",
    "\n",
    "#However, if a fixed value is assigned like random_state = 0 or 1 or 42 or any other integer then no matter how many times you execute your code the result would be the same .i.e, same values in train and test datasets."
   ]
  },
  {
   "cell_type": "code",
   "execution_count": 47,
   "id": "698a1a3b",
   "metadata": {},
   "outputs": [
    {
     "data": {
      "text/plain": [
       "array([[ 1.71842122,  9.52190711],\n",
       "       [ 9.13204399,  5.32194764],\n",
       "       [ 8.68770841,  7.79789319],\n",
       "       [ 2.8137247 ,  8.36064298],\n",
       "       [ 7.27542879,  6.31825811],\n",
       "       [ 0.48311336,  8.19998973],\n",
       "       [ 7.9294032 ,  6.08842852],\n",
       "       [ 2.69548237, 10.01411256],\n",
       "       [ 2.26571286,  8.36068903],\n",
       "       [ 0.82767806,  6.34128434],\n",
       "       [ 0.87712287,  6.84969507],\n",
       "       [ 6.86839861,  5.83429863],\n",
       "       [ 0.97059923,  7.11190662],\n",
       "       [ 2.12015254,  5.61101265],\n",
       "       [ 2.88274828,  9.28705277],\n",
       "       [ 8.47704476,  6.80415251],\n",
       "       [ 7.61095347,  7.8201477 ],\n",
       "       [ 1.65359865,  9.510461  ],\n",
       "       [ 2.08607703,  7.46086368],\n",
       "       [ 9.92527993,  6.67617854],\n",
       "       [ 2.09222936,  6.81774802],\n",
       "       [ 1.59396992,  4.76457177],\n",
       "       [ 0.67778343,  8.51397085],\n",
       "       [ 7.86880706,  7.3062361 ],\n",
       "       [ 8.32405183,  3.6123843 ],\n",
       "       [ 8.35834306,  6.47258777],\n",
       "       [ 2.28968574,  6.40317382],\n",
       "       [ 6.34822954,  5.46058533],\n",
       "       [ 7.22830657,  7.86147791],\n",
       "       [ 8.47764867,  6.90996676],\n",
       "       [ 1.89139437,  5.88732584],\n",
       "       [ 8.26863909,  7.67453856],\n",
       "       [ 1.42412542,  8.27524534],\n",
       "       [ 2.70208537,  6.97579352],\n",
       "       [ 8.52161671,  4.83102994],\n",
       "       [ 7.00192182,  6.43079715],\n",
       "       [ 9.03512586,  7.66854573],\n",
       "       [ 1.51927726,  7.82424385],\n",
       "       [ 6.9758391 ,  5.80360444],\n",
       "       [ 7.59114483,  6.77649377]])"
      ]
     },
     "execution_count": 47,
     "metadata": {},
     "output_type": "execute_result"
    }
   ],
   "source": [
    "X\n",
    "# these values basocally represents the snout size points of the allegator or crocodile.\n",
    "# instaed of giving values we used blob to assign rendom points.\n",
    "# array(size of the animal,width of the snout)"
   ]
  },
  {
   "cell_type": "code",
   "execution_count": 48,
   "id": "158fc18a",
   "metadata": {},
   "outputs": [
    {
     "data": {
      "text/plain": [
       "array([0, 1, 1, 0, 1, 0, 1, 0, 0, 0, 0, 1, 0, 0, 0, 1, 1, 0, 0, 1, 0, 0,\n",
       "       0, 1, 1, 1, 0, 1, 1, 1, 0, 1, 0, 0, 1, 1, 1, 0, 1, 1])"
      ]
     },
     "execution_count": 48,
     "metadata": {},
     "output_type": "execute_result"
    }
   ],
   "source": [
    "y"
   ]
  },
  {
   "cell_type": "markdown",
   "id": "8a828498",
   "metadata": {},
   "source": [
    "FIT THE DATA :"
   ]
  },
  {
   "cell_type": "code",
   "execution_count": 73,
   "id": "b310e7b7",
   "metadata": {},
   "outputs": [
    {
     "data": {
      "text/plain": [
       "SVC(C=1, kernel='linear')"
      ]
     },
     "execution_count": 73,
     "metadata": {},
     "output_type": "execute_result"
    }
   ],
   "source": [
    "clf = svm.SVC(kernel = \"linear\", C=1)\n",
    "clf.fit(X,y)"
   ]
  },
  {
   "cell_type": "markdown",
   "id": "29e4ad7f",
   "metadata": {},
   "source": [
    "DISPLAYING THE DATA IN GRAPH FORM : "
   ]
  },
  {
   "cell_type": "code",
   "execution_count": 86,
   "id": "6c6b042b",
   "metadata": {},
   "outputs": [
    {
     "data": {
      "text/plain": [
       "<matplotlib.collections.PathCollection at 0x1b28ca7e820>"
      ]
     },
     "execution_count": 86,
     "metadata": {},
     "output_type": "execute_result"
    },
    {
     "data": {
      "image/png": "[encoded data removed]",
      "text/plain": [
       "<Figure size 432x288 with 1 Axes>"
      ]
     },
     "metadata": {
      "needs_background": "light"
     },
     "output_type": "display_data"
    }
   ],
   "source": [
    "plt.scatter(X[:,0],X[:,1],c = y,cmap = plt.cm.Paired)"
   ]
  },
  {
   "cell_type": "code",
   "execution_count": 87,
   "id": "a160ee08",
   "metadata": {},
   "outputs": [],
   "source": [
    "# So the blue dots are Allegator and Red dots are crocodile."
   ]
  },
  {
   "cell_type": "code",
   "execution_count": 88,
   "id": "529897e2",
   "metadata": {},
   "outputs": [
    {
     "name": "stdout",
     "output_type": "stream",
     "text": [
      "[1 0]\n"
     ]
    }
   ],
   "source": [
    "# using unknown data\n",
    "newData = [[3,2],[4,6]]\n",
    "print(clf.predict(newData))"
   ]
  },
  {
   "cell_type": "markdown",
   "id": "e031a9bc",
   "metadata": {},
   "source": [
    "so here it predicted first one as crocodile and second one allegator."
   ]
  },
  {
   "cell_type": "markdown",
   "id": "7af33e7c",
   "metadata": {},
   "source": [
    "# Plotting :"
   ]
  },
  {
   "cell_type": "code",
   "execution_count": 92,
   "id": "f080cac5",
   "metadata": {},
   "outputs": [
    {
     "data": {
      "image/png": "[encoded data removed]",
      "text/plain": [
       "<Figure size 432x288 with 1 Axes>"
      ]
     },
     "metadata": {
      "needs_background": "light"
     },
     "output_type": "display_data"
    }
   ],
   "source": [
    "clf = svm.SVC(kernel = \"linear\", C=1)\n",
    "clf.fit(X,y)\n",
    "plt.scatter(X[:,0],X[:,1],c = y,cmap = plt.cm.Paired)\n",
    "# we have to load the datas again to visualize.\n",
    "\n",
    "\n",
    "# plotting the decision function\n",
    "ax = plt.gca()\n",
    "xlim = ax.get_xlim()\n",
    "ylim = ax.get_ylim()\n",
    "\n",
    "# create grid to evaluate model\n",
    "xx = np.linspace(xlim[0],xlim[1],30)\n",
    "yy = np.linspace(ylim[0],ylim[1],30)\n",
    "YY,XX = np.meshgrid(yy,xx)\n",
    "xy = np.vstack([XX.ravel(),YY.ravel()]).T\n",
    "z = clf.decision_function(xy).reshape(XX.shape)\n",
    "\n",
    "# plot decision boundary and margins\n",
    "ax.contour(XX,YY,z, colors='k',levels = [-1,0,1],\n",
    "           alpha = 0.5,\n",
    "           linestyles = ['--','-','--'])\n",
    "\n",
    "# plot support vectors\n",
    "ax.scatter(clf.support_vectors_[:,0],\n",
    "          clf.support_vectors_[:,1],s = 100,\n",
    "          linewidth = 1)\n",
    "plt.show()"
   ]
  },
  {
   "cell_type": "code",
   "execution_count": 78,
   "id": "e3df3b98",
   "metadata": {},
   "outputs": [],
   "source": [
    "# plt.gca(projection='polar')"
   ]
  },
  {
   "cell_type": "markdown",
   "id": "e5bdf6b0",
   "metadata": {},
   "source": [
    "# Conclusion : \n"
   ]
  },
  {
   "cell_type": "markdown",
   "id": "e6cbfd1f",
   "metadata": {},
   "source": [
    "We have demostrated support vector machine by segregating the two classes,\n",
    "where bule points or part represents allegator and red part represents crocodiles."
   ]
  },
  {
   "cell_type": "code",
   "execution_count": null,
   "id": "00113eb1",
   "metadata": {},
   "outputs": [],
   "source": []
  }
 ],
 "metadata": {
  "kernelspec": {
   "display_name": "Python 3 (ipykernel)",
   "language": "python",
   "name": "python3"
  },
  "language_info": {
   "codemirror_mode": {
    "name": "ipython",
    "version": 3
   },
   "file_extension": ".py",
   "mimetype": "text/x-python",
   "name": "python",
   "nbconvert_exporter": "python",
   "pygments_lexer": "ipython3",
   "version": "3.9.12"
  }
 },
 "nbformat": 4,
 "nbformat_minor": 5
}
